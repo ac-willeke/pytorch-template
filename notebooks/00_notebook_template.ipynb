{
 "cells": [
  {
   "cell_type": "markdown",
   "metadata": {},
   "source": [
    "# Notebook Template\n",
    "\n",
    "[![colab](https://colab.research.google.com/assets/colab-badge.svg)](https://colab.research.google.com/github/zanderVenter/test-pytorch/blob/main/notebooks/00_notebook_template.ipynb) [![github](https://img.shields.io/badge/GitHub-View%20on%20GitHub-blue?logo=github)](https://github.com/zanderVenter/test-pytorch/blob/main/notebooks/00_notebook_template.ipynb)\n",
    "\n",
    "**Author**: Willeke A'Campo\n",
    "\n",
    "**Description:** This is a template for a notebook. It contains the basic structure and some useful links to get started with the notebook."
   ]
  },
  {
   "cell_type": "markdown",
   "metadata": {},
   "source": [
    "## Configuration"
   ]
  },
  {
   "cell_type": "markdown",
   "metadata": {},
   "source": [
    "**Upload files and modules to Colab**\n",
    "\n",
    "- zip the `src` folder: `zip -r src.zip src` \n",
    "- zip the `config` folder: `zip -r config.zip config`\n",
    "- upload the zipped files to Colab\n",
    "- unzip the files: `!unzip src.zip` and `!unzip config.zip`\n",
    "- add src to the python path in Colab\n",
    "- ensure that the `DATA` variable in your `.env` is set to your colab path: `content\\...\\`\n",
    "\n"
   ]
  },
  {
   "cell_type": "code",
   "execution_count": 1,
   "metadata": {},
   "outputs": [],
   "source": [
    "google_colab = False\n",
    "if google_colab:\n",
    "    from google.colab import files\n",
    "    # upload src, config and colab_requirements.txt\n",
    "    uploaded = files.upload()\n",
    "    \n",
    "    # unzip the file\n",
    "    !unzip src.zip\n",
    "    !unzip config.zip\n",
    "\n",
    "    # add the src directory on colab to path\n",
    "    import sys\n",
    "    sys.path.append('src')\n",
    "    \n",
    "    # install required packages\n",
    "    !pip install -r colab_requirements.txt\n"
   ]
  },
  {
   "cell_type": "code",
   "execution_count": 2,
   "metadata": {},
   "outputs": [],
   "source": [
    "import logging\n",
    "import ee\n",
    "import pandas as pd\n",
    "\n",
    "# import local modules\n",
    "from src.logger import setup_logging\n",
    "from src.config import (load_catalog, load_parameters,\n",
    "                        ee_authenticate, ee_st_authenticate)  # noqa"
   ]
  },
  {
   "cell_type": "markdown",
   "metadata": {},
   "source": [
    "Set up custom logging files are logged to `logs/` folder"
   ]
  },
  {
   "cell_type": "code",
   "execution_count": 3,
   "metadata": {},
   "outputs": [
    {
     "name": "stdout",
     "output_type": "stream",
     "text": [
      "[INFO]: Logging configuration file found and loaded.\n"
     ]
    }
   ],
   "source": [
    "setup_logging(default_name=\"NB-template\")\n",
    "logger = logging.getLogger(__name__)"
   ]
  },
  {
   "cell_type": "markdown",
   "metadata": {},
   "source": [
    "Load the catalog and project parameters:\n",
    "- datasets: `config/catalog.yml`\n",
    "- parameters: `config/parameters.yml`"
   ]
  },
  {
   "cell_type": "code",
   "execution_count": 4,
   "metadata": {},
   "outputs": [
    {
     "name": "stdout",
     "output_type": "stream",
     "text": [
      "[INFO]: Loading catalog...\n",
      "[INFO]: /home/willeke.acampo/git/tmp/test-pytorch/data\n"
     ]
    }
   ],
   "source": [
    "# load catalog and params\n",
    "logger.info(\"Loading catalog...\")\n",
    "catalog = load_catalog()\n",
    "parameters = load_parameters()\n",
    "logger.info(catalog[\"project_data\"][\"filepath\"])"
   ]
  },
  {
   "cell_type": "markdown",
   "metadata": {},
   "source": [
    "Load Google Colabs test dataset into a pandas dataframe"
   ]
  },
  {
   "cell_type": "code",
   "execution_count": 5,
   "metadata": {},
   "outputs": [
    {
     "name": "stdout",
     "output_type": "stream",
     "text": [
      "[INFO]: Google Earth Engine initialized successfully.\n",
      "Image thumbnail URL: https://earthengine.googleapis.com/v1/projects/earthengine-legacy/thumbnails/d76867bc113444f74bf9de927f6c2d95-c77288d56c0e04774c0ccf1775d4854b:getPixels\n"
     ]
    }
   ],
   "source": [
    "# Test authentication with GEE\n",
    "ee_authenticate()\n",
    "\n",
    "# Display a thumbnail of a sample image asset.\n",
    "image = ee.Image('USGS/SRTMGL1_003')\n",
    "url = image.getThumbUrl({\n",
    "    'min': 0, \n",
    "    'max': 3000,\n",
    "    'dimensions': (1024, 1024)  # Specify the maximum dimensions of the thumbnail\n",
    "})\n",
    "print('Image thumbnail URL: {}'.format(url))"
   ]
  },
  {
   "cell_type": "code",
   "execution_count": null,
   "metadata": {},
   "outputs": [],
   "source": [
    "if google_colab:\n",
    "    test = \"test_colab\"\n",
    "else:\n",
    "    test = \"test\"\n",
    "    # load colab test dataset into a dataframe\n",
    "csv_test = catalog[test][\"filepath\"]\n",
    "logger.info(csv_test)\n",
    "    \n",
    "# load the test dataset\n",
    "df = pd.read_csv(csv_test)\n",
    "logger.info(df.head())"
   ]
  },
  {
   "cell_type": "markdown",
   "metadata": {},
   "source": [
    "## Import Data"
   ]
  },
  {
   "cell_type": "code",
   "execution_count": null,
   "metadata": {},
   "outputs": [],
   "source": []
  },
  {
   "cell_type": "markdown",
   "metadata": {},
   "source": [
    "## Data Preparation"
   ]
  },
  {
   "cell_type": "code",
   "execution_count": null,
   "metadata": {},
   "outputs": [],
   "source": []
  },
  {
   "cell_type": "markdown",
   "metadata": {},
   "source": [
    "## Data Analysis"
   ]
  }
 ],
 "metadata": {
  "kernelspec": {
   "display_name": "pygdal-geo-engineer-PWaTLytx-py3.10",
   "language": "python",
   "name": "python3"
  },
  "language_info": {
   "codemirror_mode": {
    "name": "ipython",
    "version": 3
   },
   "file_extension": ".py",
   "mimetype": "text/x-python",
   "name": "python",
   "nbconvert_exporter": "python",
   "pygments_lexer": "ipython3",
   "version": "3.10.12"
  }
 },
 "nbformat": 4,
 "nbformat_minor": 2
}
